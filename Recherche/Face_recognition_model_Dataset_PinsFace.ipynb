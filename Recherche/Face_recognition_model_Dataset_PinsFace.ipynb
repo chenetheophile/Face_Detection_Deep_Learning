{
  "cells": [
    {
      "cell_type": "code",
      "execution_count": null,
      "metadata": {
        "id": "jcaUaAtMNSqo"
      },
      "outputs": [],
      "source": [
        "import numpy as np\n",
        "from sklearn.model_selection import train_test_split\n",
        "import os\n",
        "import pandas as pd\n",
        "from PIL import Image\n",
        "from keras.models import Sequential\n",
        "from keras.optimizers import Adam\n",
        "from keras.layers import Conv2D,MaxPooling2D,Dense,Flatten,Dropout,GlobalAveragePooling2D\n",
        "from sklearn.metrics import accuracy_score, confusion_matrix\n",
        "import matplotlib.pyplot as plt\n",
        "import joblib\n",
        "import tensorflow as tf\n",
        "from keras.models import Model\n",
        "from keras.regularizers import l1_l2\n",
        "from keras.regularizers import l1\n",
        "from keras.regularizers import l2\n",
        "from tensorflow.keras.layers import BatchNormalization\n",
        "import sklearn.metrics as metrics\n",
        "import seaborn as sns\n",
        "from datetime import datetime\n",
        "from tensorflow.keras.callbacks import ReduceLROnPlateau, Callback\n",
        "import cv2\n",
        "from google.colab import files\n",
        "from tensorflow import keras"
      ]
    },
    {
      "cell_type": "code",
      "execution_count": null,
      "metadata": {
        "colab": {
          "base_uri": "https://localhost:8080/"
        },
        "id": "3GnrkEkFN3H9",
        "outputId": "359d214d-6b30-4f52-ecdd-fc40fe33812e"
      },
      "outputs": [
        {
          "output_type": "stream",
          "name": "stdout",
          "text": [
            "Mounted at /content/drive\n"
          ]
        }
      ],
      "source": [
        "# Daset Pins_face_recognition\n",
        "from google.colab import drive\n",
        "drive.mount('/content/drive')"
      ]
    },
    {
      "cell_type": "code",
      "execution_count": null,
      "metadata": {
        "id": "J_UKz2PyN4V3"
      },
      "outputs": [],
      "source": [
        "DATA_DIR2=\"/content/drive/My Drive/Face_recognition_project/\""
      ]
    },
    {
      "cell_type": "code",
      "execution_count": null,
      "metadata": {
        "colab": {
          "base_uri": "https://localhost:8080/"
        },
        "id": "4SHy51A2Ydfl",
        "outputId": "a7fd73b2-587d-4a86-f308-a5347cd36cdd"
      },
      "outputs": [
        {
          "output_type": "stream",
          "name": "stdout",
          "text": [
            "['grantgustin', 'elonmusk', 'jeffbezos', 'ellenpage', 'galgadot']\n",
            "[0, 1, 2, 3, 4]\n",
            "{'grantgustin': 0, 'elonmusk': 1, 'jeffbezos': 2, 'ellenpage': 3, 'galgadot': 4}\n",
            "The number of classes is : 5\n"
          ]
        }
      ],
      "source": [
        "import re\n",
        "# Function to split the extract only the name from the single picture files\n",
        "def extract_name(string):\n",
        "    name = string.split('.')[0]  # Split on period and take the first element\n",
        "    name = ''.join(filter(str.isalpha, name))  # Keep only alphabetical characters\n",
        "    return name\n",
        "\n",
        "# to get class names from Pins_Face_Dataset\n",
        "img_files = os.listdir(f\"{DATA_DIR2}/Pins_Face_dataset_105_classes\") \n",
        "y_img_labels = [extract_name(file_name) for file_name in img_files] \n",
        "# Print(y_img_labels)\n",
        "unique_y_img_labels = list(set(y_img_labels))\n",
        "print(unique_y_img_labels)\n",
        "\n",
        "# # Puts a number on each class name in their order of apearance\n",
        "dict_labels = [unique_y_img_labels.index(elt) for elt in unique_y_img_labels]\n",
        "print(dict_labels)\n",
        "\n",
        "\n",
        "number_of_classes = len(dict_labels)\n",
        "print(\"The number of classes is :\", number_of_classes)"
      ]
    },
    {
      "cell_type": "code",
      "execution_count": null,
      "metadata": {
        "colab": {
          "base_uri": "https://localhost:8080/"
        },
        "id": "eHspjdCHOANz",
        "outputId": "b83fc194-28ad-4a4c-cb79-50f2d7f5831c"
      },
      "outputs": [
        {
          "output_type": "execute_result",
          "data": {
            "text/plain": [
              "(10,)"
            ]
          },
          "metadata": {},
          "execution_count": 6
        }
      ],
      "source": [
        "# now use the dict to construct digit labels according to each of the classes it belongs to \n",
        "# and stores it as a matrix (if i'm correct)\n",
        "y_labels = np.array([dict_labels[elt] for elt in y_img_labels])\n",
        "#print(y_labels)\n",
        "y_labels.shape"
      ]
    },
    {
      "cell_type": "code",
      "execution_count": null,
      "metadata": {
        "id": "sLNKOtQ3KDbI"
      },
      "outputs": [],
      "source": [
        "# # #Takes A lot of fucking timmmmmmmmmmme!!!!!!!! like 5-7 min (only run when we did delete the file X_array on Gdrive)\n",
        "\n",
        "# Code to retrieve the images in color, than, convert them to grayscale\n",
        "\n",
        "# from PIL import Image\n",
        "# # Create an empty list to store the images\n",
        "# img_list = []\n",
        "# # Loop through each file in the directory\n",
        "# for file_name in img_files[]:\n",
        "#     # Open the image and store it in a numpy array\n",
        "#     image_opened = Image.open(f\"{DATA_DIR2}/Pins_Face_dataset_105_classes/{file_name}\")\n",
        "#     # Converting images to grayscale\n",
        "#     image_grayscale = image_opened.convert(\"L\")\n",
        "#     # Converting to an array\n",
        "#     img_array = np.array(image_grayscale, dtype=np.uint8)\n",
        "#     # Append the numpy array to the list of images\n",
        "#     img_list.append(img_array)\n",
        "\n",
        "# # Convert the list of numpy arrays to a numpy array object\n",
        "# X = np.array(img_list, dtype=object)\n",
        "\n",
        "# # Saving array\n",
        "# def save_array_to_file(array, filename):\n",
        "#     with open(filename, 'wb') as f:\n",
        "#         np.save(f, array)\n",
        "# X_saved = save_array_to_file(X, '/content/drive/My Drive/Face_recognition_project/X_array.npy')"
      ]
    },
    {
      "cell_type": "code",
      "execution_count": null,
      "metadata": {
        "id": "YTzAST8EOFrM"
      },
      "outputs": [],
      "source": [
        "# !!!!!!!!!!!!!! Utilise trop de ram       To load array from saved array_file\n",
        "def load_array_from_file(filename):\n",
        "    with open(filename, 'rb') as f:\n",
        "        array = np.load(f,allow_pickle=True)\n",
        "        f.close()\n",
        "    return array\n",
        "X_loaded_array = load_array_from_file('/content/drive/My Drive/Face_recognition_project/X_array.npy')"
      ]
    },
    {
      "cell_type": "code",
      "execution_count": null,
      "metadata": {
        "id": "oQpwsm2bOHY4"
      },
      "outputs": [],
      "source": [
        "# print(X_loaded_array.dtype)\n",
        "# print(y_labels.shape)   "
      ]
    },
    {
      "cell_type": "code",
      "execution_count": null,
      "metadata": {
        "id": "itBiITBcOJSA"
      },
      "outputs": [],
      "source": [
        "X_train, X_test, y_train, y_test = train_test_split(X_loaded_array, y_labels, test_size=0.15, random_state=4)"
      ]
    },
    {
      "cell_type": "code",
      "execution_count": null,
      "metadata": {
        "colab": {
          "base_uri": "https://localhost:8080/"
        },
        "id": "okaKPZUrOLhe",
        "outputId": "b1070fdb-7004-4fbe-d876-dc8bd415036b"
      },
      "outputs": [
        {
          "name": "stdout",
          "output_type": "stream",
          "text": [
            "<dtype: 'float16'>\n",
            "<dtype: 'float16'>\n"
          ]
        }
      ],
      "source": [
        "# !!!!!!!!!!!!!!!!!!!!!!!!!! Utilise trop de ram\n",
        "from skimage import exposure\n",
        "\n",
        "def resize_images(X_train_):\n",
        "  # resize images to 160x160\n",
        "  X_train_resized = []\n",
        "  for img in X_train_:\n",
        "    img = img.astype(np.uint8)  # convert to uint8\n",
        "    img_resized = cv2.resize(img, (160, 160))\n",
        "    X_train_resized.append(img_resized)\n",
        "  # convert to NumPy array and reshape\n",
        "  X_train_resized_to_array_2d = np.array(X_train_resized)\n",
        "  # resizing array from 2d to 3d array\n",
        "  X_train_resized_to_array_3d = np.repeat(X_train_resized_to_array_2d[:,:,np.newaxis], 3, axis=2)\n",
        "  X_train_reshaped = X_train_resized_to_array_3d.reshape(X_train_resized_to_array_3d.shape[0], 160, 160, 3)\n",
        "  return X_train_reshaped\n",
        "\n",
        "X_train_reshaped = resize_images(X_train)\n",
        "X_test_reshaped = resize_images(X_test)\n",
        "\n",
        "# Converting dtype('uint8') to dtype('float16') to normalize after\n",
        "def Convert_unit8_to_float_and_normalize(array):\n",
        "    arr_float = array.astype('float16')\n",
        "    # Normalises images ( does the same as /255)\n",
        "    converted_and_reshaped_array = exposure.rescale_intensity(arr_float, in_range=(0, 255), out_range=(0, 2))\n",
        "    return converted_and_reshaped_array\n",
        "\n",
        "X_train_normalized = Convert_unit8_to_float_and_normalize(X_train_reshaped)\n",
        "X_test_normalized = Convert_unit8_to_float_and_normalize(X_test_reshaped)\n",
        "\n",
        "X_train_tf = tf.convert_to_tensor(X_train_normalized, dtype=tf.float16)\n",
        "X_test_tf  = tf.convert_to_tensor(X_test_normalized, dtype=tf.float16)\n",
        "y_train_tf = tf.convert_to_tensor(y_train, dtype=tf.float16)\n",
        "y_test_tf = tf.convert_to_tensor(y_test, dtype=tf.float16)\n",
        "\n",
        "print(X_test_tf.dtype)\n",
        "print(X_test_tf.dtype)\n",
        "\n",
        "im_shape = (160, 160, 3)"
      ]
    },
    {
      "cell_type": "code",
      "execution_count": null,
      "metadata": {
        "id": "6FPEKztpUnxP"
      },
      "outputs": [],
      "source": [
        "# AlexNet model \n",
        "\n",
        "# model = keras.models.Sequential([\n",
        "#     keras.layers.Conv2D(filters=96, kernel_size=(11,11), strides=(4,4), activation='relu', input_shape=(160,160,3)),\n",
        "#     keras.layers.BatchNormalization(),\n",
        "#     keras.layers.MaxPool2D(pool_size=(3,3), strides=(2,2)),\n",
        "#     keras.layers.Conv2D(filters=256, kernel_size=(5,5), strides=(1,1), activation='relu', padding=\"same\"),\n",
        "#     keras.layers.BatchNormalization(),\n",
        "#     keras.layers.MaxPool2D(pool_size=(3,3), strides=(2,2)),\n",
        "#     keras.layers.Conv2D(filters=384, kernel_size=(3,3), strides=(1,1), activation='relu', padding=\"same\"),\n",
        "#     keras.layers.BatchNormalization(),\n",
        "#     keras.layers.Conv2D(filters=384, kernel_size=(3,3), strides=(1,1), activation='relu', padding=\"same\"),\n",
        "#     keras.layers.BatchNormalization(),\n",
        "#     keras.layers.Conv2D(filters=256, kernel_size=(3,3), strides=(1,1), activation='relu', padding=\"same\"),\n",
        "#     keras.layers.BatchNormalization(),\n",
        "#     keras.layers.MaxPool2D(pool_size=(3,3), strides=(2,2)),\n",
        "#     keras.layers.Flatten(),\n",
        "#     keras.layers.Dense(4096, activation='relu'),\n",
        "#     keras.layers.Dropout(0.5),\n",
        "#     keras.layers.Dense(4096, activation='relu'),\n",
        "#     keras.layers.Dropout(0.5),\n",
        "#     keras.layers.Dense(number_of_classes, activation='softmax')\n",
        "# ])"
      ]
    },
    {
      "cell_type": "code",
      "execution_count": null,
      "metadata": {
        "colab": {
          "base_uri": "https://localhost:8080/"
        },
        "id": "hVGNoyXhOX6V",
        "outputId": "6f182507-e097-4d5e-c0b2-b9fd2ba676f1"
      },
      "outputs": [
        {
          "name": "stdout",
          "output_type": "stream",
          "text": [
            "Downloading data from https://storage.googleapis.com/tensorflow/keras-applications/vgg16/vgg16_weights_tf_dim_ordering_tf_kernels_notop.h5\n",
            "58889256/58889256 [==============================] - 4s 0us/step\n"
          ]
        }
      ],
      "source": [
        "import tensorflow as tf\n",
        "from keras.applications import MobileNetV2,ResNet50,VGG16,VGG19\n",
        "from keras.layers import Conv2D,MaxPooling2D,Dense,Flatten,Dropout,GlobalAveragePooling2D,AveragePooling2D\n",
        "\n",
        "im_shape = (160, 160, 3)\n",
        "## Code to fit MobileNetV2\n",
        "# trained_model=MobileNetV2(input_shape=(160,160,3),           \n",
        "#                     include_top=False,\n",
        "#                     weights='imagenet')  \n",
        "# trained_model.trainable=True  #Un-Freeze all the pretrained layers of 'MobileNetV2 for Training.\n",
        "# last_layer=trained_model.get_last_layer('dense_2')   \n",
        "# last_layer_output=last_layer.output\n",
        "# model.add(Flatten())\n",
        "# model.add(Dense(512, activation='relu'))\n",
        "\n",
        "# #InceptionV3\n",
        "# pretrained_model= tf.keras.applications.InceptionV3(include_top=False,\n",
        "#                    input_shape=im_shape,\n",
        "#                    pooling='avg',classes=number_of_classes,\n",
        "#                    weights='imagenet')\n",
        "\n",
        "#VGG19\n",
        "# pretrained_model= tf.keras.applications.VGG19(include_top=False,\n",
        "#                    input_shape=im_shape,\n",
        "#                    pooling='avg',classes=number_of_classes,\n",
        "#                    weights='imagenet')\n",
        "\n",
        "#VGG16  (meilleur modèle jusque la)\n",
        "pretrained_model= tf.keras.applications.VGG16(include_top=False,\n",
        "                   input_shape=im_shape,\n",
        "                   pooling='avg',classes=number_of_classes,\n",
        "                   weights='imagenet')\n",
        "\n",
        "# #MobileNetV2\n",
        "# pretrained_model= tf.keras.applications.MobileNetV2(include_top=False,\n",
        "#                    input_shape=im_shape,\n",
        "#                    pooling='avg',classes=number_of_classes,\n",
        "#                    weights='imagenet')\n",
        "\n",
        "# #ResNet50\n",
        "# pretrained_model= tf.keras.applications.ResNet50(include_top=False,\n",
        "#                    input_shape=im_shape,\n",
        "#                    pooling='avg',classes=number_of_classes,\n",
        "#                    weights='imagenet')\n",
        "\n",
        "model = Sequential()\n",
        "for each_layer in pretrained_model.layers:\n",
        "        each_layer.trainable=True\n",
        "model.add(pretrained_model)\n",
        "model.add(Flatten())\n",
        "# model.add(Dense(96, activation='relu'))\n",
        "# model.add(Dropout(0.2))\n",
        "# model.add(Dense(96, activation='relu'))\n",
        "# model.add(Dropout(0.2))\n",
        "# # model.add(Dense(512, activation='relu'))\n",
        "# # model.add(Dropout(0.2))\n",
        "model.add(Dense(105, activation='softmax'))"
      ]
    },
    {
      "cell_type": "code",
      "execution_count": null,
      "metadata": {
        "colab": {
          "base_uri": "https://localhost:8080/"
        },
        "id": "wrY2JEOdSSBZ",
        "outputId": "46d9ed2c-afd4-4b0f-bc3a-8da7ee33649d"
      },
      "outputs": [
        {
          "name": "stdout",
          "output_type": "stream",
          "text": [
            "Model: \"sequential_1\"\n",
            "_________________________________________________________________\n",
            " Layer (type)                Output Shape              Param #   \n",
            "=================================================================\n",
            " vgg16 (Functional)          (None, 512)               14714688  \n",
            "                                                                 \n",
            " flatten_1 (Flatten)         (None, 512)               0         \n",
            "                                                                 \n",
            " dense_1 (Dense)             (None, 105)               53865     \n",
            "                                                                 \n",
            "=================================================================\n",
            "Total params: 14,768,553\n",
            "Trainable params: 14,768,553\n",
            "Non-trainable params: 0\n",
            "_________________________________________________________________\n"
          ]
        }
      ],
      "source": [
        "# x = tf.keras.layers.GlobalAveragePooling2D()(last_layer_output)\n",
        "# #Add a Dropout layer.\n",
        "# x = tf.keras.layers.Dropout(0.5)(x) \n",
        "# x = tf.keras.layers.BatchNormalization()(x)\n",
        "# x = tf.keras.layers.Flatten()(x)\n",
        "# x = tf.keras.layers.Dropout(0.5)(x) \n",
        "\n",
        "# x=tf.keras.layers.Dense(256, activation='relu')(x)\n",
        "# # x = tf.keras.layers.BatchNormalization()(x)\n",
        "# # x = tf.keras.layers.Flatten()(x)\n",
        "# # x = tf.keras.layers.Dropout(0.2)(x) \n",
        "# x=tf.keras.layers.Dense(512, activation='relu')(x)\n",
        "# # Add a final softmax layer for classification.\n",
        "# x = tf.keras.layers.Dense(105,activation='softmax')(x)\n",
        "# model = tf.keras.Model(trained_model.input,x) \n",
        "\n",
        "\n",
        "model.compile(\n",
        "    loss='sparse_categorical_crossentropy',\n",
        "    optimizer=Adam(learning_rate=0.0001),\n",
        "    metrics=['accuracy'],\n",
        ")\n",
        "model.summary()"
      ]
    },
    {
      "cell_type": "code",
      "execution_count": null,
      "metadata": {
        "colab": {
          "background_save": true,
          "base_uri": "https://localhost:8080/"
        },
        "id": "W5WI9SBdOXVB",
        "outputId": "8f08d81d-cddc-4a20-ef89-115cf7f1b8d3"
      },
      "outputs": [
        {
          "name": "stdout",
          "output_type": "stream",
          "text": [
            "Epoch 1/70\n",
            "58/58 - 15s - loss: 4.5175 - accuracy: 0.0265 - val_loss: 4.1646 - val_accuracy: 0.0533 - 15s/epoch - 252ms/step\n",
            "Epoch 2/70\n",
            "58/58 - 12s - loss: 3.5249 - accuracy: 0.1587 - val_loss: 2.9243 - val_accuracy: 0.2582 - 12s/epoch - 212ms/step\n",
            "Epoch 3/70\n",
            "58/58 - 12s - loss: 2.3239 - accuracy: 0.3970 - val_loss: 2.1044 - val_accuracy: 0.4649 - 12s/epoch - 213ms/step\n",
            "Epoch 4/70\n",
            "58/58 - 12s - loss: 1.5352 - accuracy: 0.5840 - val_loss: 1.7430 - val_accuracy: 0.5439 - 12s/epoch - 211ms/step\n",
            "Epoch 5/70\n",
            "58/58 - 12s - loss: 1.0645 - accuracy: 0.7044 - val_loss: 1.5649 - val_accuracy: 0.5811 - 12s/epoch - 211ms/step\n",
            "Epoch 6/70\n",
            "58/58 - 12s - loss: 0.7210 - accuracy: 0.7929 - val_loss: 1.4657 - val_accuracy: 0.6356 - 12s/epoch - 212ms/step\n",
            "Epoch 7/70\n",
            "58/58 - 12s - loss: 0.4728 - accuracy: 0.8611 - val_loss: 1.4570 - val_accuracy: 0.6628 - 12s/epoch - 213ms/step\n",
            "Epoch 8/70\n",
            "58/58 - 12s - loss: 0.2823 - accuracy: 0.9152 - val_loss: 1.3621 - val_accuracy: 0.6770 - 12s/epoch - 211ms/step\n",
            "Epoch 9/70\n",
            "58/58 - 12s - loss: 0.1707 - accuracy: 0.9492 - val_loss: 1.4952 - val_accuracy: 0.6713 - 12s/epoch - 211ms/step\n",
            "Epoch 10/70\n",
            "58/58 - 12s - loss: 0.1483 - accuracy: 0.9554 - val_loss: 1.4863 - val_accuracy: 0.6893 - 12s/epoch - 211ms/step\n",
            "Epoch 11/70\n",
            "58/58 - 12s - loss: 0.0978 - accuracy: 0.9700 - val_loss: 1.5026 - val_accuracy: 0.7039 - 12s/epoch - 212ms/step\n",
            "Epoch 12/70\n",
            "58/58 - 12s - loss: 0.0841 - accuracy: 0.9745 - val_loss: 1.6971 - val_accuracy: 0.6732 - 12s/epoch - 212ms/step\n",
            "Epoch 13/70\n",
            "58/58 - 12s - loss: 0.0935 - accuracy: 0.9728 - val_loss: 1.5511 - val_accuracy: 0.7043 - 12s/epoch - 212ms/step\n",
            "Epoch 14/70\n",
            "58/58 - 12s - loss: 0.0431 - accuracy: 0.9877 - val_loss: 1.5897 - val_accuracy: 0.7046 - 12s/epoch - 212ms/step\n",
            "Epoch 15/70\n",
            "58/58 - 12s - loss: 0.0156 - accuracy: 0.9962 - val_loss: 1.7036 - val_accuracy: 0.7292 - 12s/epoch - 213ms/step\n",
            "Epoch 16/70\n",
            "58/58 - 12s - loss: 0.0119 - accuracy: 0.9968 - val_loss: 1.5647 - val_accuracy: 0.7277 - 12s/epoch - 212ms/step\n",
            "Epoch 17/70\n",
            "58/58 - 12s - loss: 0.0269 - accuracy: 0.9929 - val_loss: 1.6987 - val_accuracy: 0.7135 - 12s/epoch - 213ms/step\n",
            "Epoch 18/70\n",
            "58/58 - 12s - loss: 0.0502 - accuracy: 0.9844 - val_loss: 1.5310 - val_accuracy: 0.6997 - 12s/epoch - 212ms/step\n",
            "Epoch 19/70\n",
            "58/58 - 12s - loss: 0.0606 - accuracy: 0.9817 - val_loss: 1.8017 - val_accuracy: 0.6843 - 12s/epoch - 211ms/step\n",
            "Epoch 20/70\n",
            "58/58 - 12s - loss: 0.0561 - accuracy: 0.9836 - val_loss: 1.7494 - val_accuracy: 0.6855 - 12s/epoch - 211ms/step\n",
            "Epoch 21/70\n",
            "58/58 - 12s - loss: 0.0538 - accuracy: 0.9848 - val_loss: 1.7611 - val_accuracy: 0.6981 - 12s/epoch - 212ms/step\n",
            "Epoch 22/70\n",
            "58/58 - 12s - loss: 0.0281 - accuracy: 0.9927 - val_loss: 1.6518 - val_accuracy: 0.7165 - 12s/epoch - 212ms/step\n",
            "Epoch 23/70\n",
            "58/58 - 12s - loss: 0.0220 - accuracy: 0.9937 - val_loss: 1.7022 - val_accuracy: 0.7100 - 12s/epoch - 212ms/step\n",
            "Epoch 24/70\n",
            "58/58 - 12s - loss: 0.0282 - accuracy: 0.9921 - val_loss: 1.8484 - val_accuracy: 0.7108 - 12s/epoch - 213ms/step\n",
            "Epoch 25/70\n",
            "58/58 - 12s - loss: 0.0341 - accuracy: 0.9886 - val_loss: 1.5100 - val_accuracy: 0.7361 - 12s/epoch - 212ms/step\n",
            "Epoch 26/70\n",
            "58/58 - 12s - loss: 0.0421 - accuracy: 0.9869 - val_loss: 1.9440 - val_accuracy: 0.6981 - 12s/epoch - 213ms/step\n",
            "Epoch 27/70\n",
            "58/58 - 12s - loss: 0.0447 - accuracy: 0.9870 - val_loss: 1.5974 - val_accuracy: 0.7062 - 12s/epoch - 211ms/step\n",
            "Epoch 28/70\n",
            "58/58 - 12s - loss: 0.0359 - accuracy: 0.9893 - val_loss: 1.5352 - val_accuracy: 0.7035 - 12s/epoch - 212ms/step\n",
            "Epoch 29/70\n",
            "58/58 - 12s - loss: 0.0488 - accuracy: 0.9856 - val_loss: 1.6490 - val_accuracy: 0.7092 - 12s/epoch - 212ms/step\n",
            "Epoch 30/70\n",
            "58/58 - 12s - loss: 0.0274 - accuracy: 0.9919 - val_loss: 1.6261 - val_accuracy: 0.7234 - 12s/epoch - 214ms/step\n",
            "Epoch 31/70\n",
            "58/58 - 12s - loss: 0.0364 - accuracy: 0.9894 - val_loss: 1.5343 - val_accuracy: 0.7142 - 12s/epoch - 212ms/step\n",
            "Epoch 32/70\n",
            "58/58 - 12s - loss: 0.0223 - accuracy: 0.9938 - val_loss: 1.6424 - val_accuracy: 0.7104 - 12s/epoch - 213ms/step\n",
            "Epoch 33/70\n",
            "58/58 - 12s - loss: 0.0235 - accuracy: 0.9935 - val_loss: 1.6250 - val_accuracy: 0.7169 - 12s/epoch - 211ms/step\n",
            "Epoch 34/70\n",
            "58/58 - 12s - loss: 0.0258 - accuracy: 0.9922 - val_loss: 1.4875 - val_accuracy: 0.7192 - 12s/epoch - 211ms/step\n",
            "Epoch 35/70\n",
            "58/58 - 12s - loss: 0.0221 - accuracy: 0.9933 - val_loss: 1.6855 - val_accuracy: 0.7234 - 12s/epoch - 213ms/step\n",
            "Epoch 36/70\n",
            "58/58 - 12s - loss: 0.0228 - accuracy: 0.9930 - val_loss: 1.6376 - val_accuracy: 0.7411 - 12s/epoch - 213ms/step\n",
            "Epoch 37/70\n",
            "58/58 - 12s - loss: 0.0290 - accuracy: 0.9909 - val_loss: 1.6480 - val_accuracy: 0.7169 - 12s/epoch - 212ms/step\n",
            "Epoch 38/70\n",
            "58/58 - 12s - loss: 0.0318 - accuracy: 0.9905 - val_loss: 1.5795 - val_accuracy: 0.7353 - 12s/epoch - 212ms/step\n",
            "Epoch 39/70\n",
            "58/58 - 12s - loss: 0.0248 - accuracy: 0.9925 - val_loss: 1.7235 - val_accuracy: 0.7012 - 12s/epoch - 212ms/step\n",
            "Epoch 40/70\n",
            "58/58 - 12s - loss: 0.0331 - accuracy: 0.9895 - val_loss: 1.5397 - val_accuracy: 0.7323 - 12s/epoch - 211ms/step\n",
            "Epoch 41/70\n",
            "58/58 - 12s - loss: 0.0193 - accuracy: 0.9948 - val_loss: 1.5364 - val_accuracy: 0.7361 - 12s/epoch - 212ms/step\n",
            "Epoch 42/70\n",
            "58/58 - 12s - loss: 0.0191 - accuracy: 0.9942 - val_loss: 1.7168 - val_accuracy: 0.7196 - 12s/epoch - 211ms/step\n",
            "Epoch 43/70\n",
            "58/58 - 12s - loss: 0.0178 - accuracy: 0.9951 - val_loss: 1.6272 - val_accuracy: 0.7415 - 12s/epoch - 212ms/step\n",
            "Epoch 44/70\n",
            "58/58 - 12s - loss: 0.0137 - accuracy: 0.9965 - val_loss: 1.8090 - val_accuracy: 0.7208 - 12s/epoch - 212ms/step\n",
            "Epoch 45/70\n",
            "58/58 - 12s - loss: 0.0390 - accuracy: 0.9883 - val_loss: 1.5798 - val_accuracy: 0.7165 - 12s/epoch - 212ms/step\n",
            "Epoch 46/70\n",
            "58/58 - 12s - loss: 0.0343 - accuracy: 0.9887 - val_loss: 1.8567 - val_accuracy: 0.7050 - 12s/epoch - 211ms/step\n",
            "Epoch 47/70\n",
            "58/58 - 12s - loss: 0.0280 - accuracy: 0.9913 - val_loss: 1.7401 - val_accuracy: 0.7020 - 12s/epoch - 212ms/step\n",
            "Epoch 48/70\n",
            "58/58 - 12s - loss: 0.0361 - accuracy: 0.9888 - val_loss: 1.4033 - val_accuracy: 0.7384 - 12s/epoch - 213ms/step\n",
            "Epoch 49/70\n",
            "58/58 - 12s - loss: 0.0373 - accuracy: 0.9894 - val_loss: 1.8026 - val_accuracy: 0.7066 - 12s/epoch - 212ms/step\n",
            "Epoch 50/70\n",
            "58/58 - 12s - loss: 0.0216 - accuracy: 0.9938 - val_loss: 1.6857 - val_accuracy: 0.7227 - 12s/epoch - 211ms/step\n",
            "Epoch 51/70\n",
            "58/58 - 12s - loss: 0.0186 - accuracy: 0.9940 - val_loss: 1.6008 - val_accuracy: 0.7357 - 12s/epoch - 211ms/step\n",
            "Epoch 52/70\n",
            "58/58 - 12s - loss: 0.0172 - accuracy: 0.9945 - val_loss: 1.4495 - val_accuracy: 0.7303 - 12s/epoch - 212ms/step\n",
            "Epoch 53/70\n",
            "58/58 - 12s - loss: 0.0128 - accuracy: 0.9963 - val_loss: 1.6249 - val_accuracy: 0.7388 - 12s/epoch - 212ms/step\n",
            "Epoch 54/70\n",
            "58/58 - 12s - loss: 0.0183 - accuracy: 0.9951 - val_loss: 1.6756 - val_accuracy: 0.7219 - 12s/epoch - 212ms/step\n",
            "Epoch 55/70\n",
            "58/58 - 12s - loss: 0.0229 - accuracy: 0.9933 - val_loss: 1.5515 - val_accuracy: 0.7330 - 12s/epoch - 213ms/step\n",
            "Epoch 56/70\n",
            "58/58 - 12s - loss: 0.0159 - accuracy: 0.9955 - val_loss: 1.6637 - val_accuracy: 0.7403 - 12s/epoch - 212ms/step\n",
            "Epoch 57/70\n",
            "58/58 - 12s - loss: 0.0178 - accuracy: 0.9952 - val_loss: 2.0391 - val_accuracy: 0.6816 - 12s/epoch - 212ms/step\n",
            "Epoch 58/70\n",
            "58/58 - 12s - loss: 0.0247 - accuracy: 0.9922 - val_loss: 1.5276 - val_accuracy: 0.7426 - 12s/epoch - 211ms/step\n",
            "Epoch 59/70\n",
            "58/58 - 12s - loss: 0.0192 - accuracy: 0.9942 - val_loss: 1.4008 - val_accuracy: 0.7376 - 12s/epoch - 212ms/step\n",
            "Epoch 60/70\n",
            "58/58 - 12s - loss: 0.0102 - accuracy: 0.9975 - val_loss: 1.6306 - val_accuracy: 0.7434 - 12s/epoch - 213ms/step\n",
            "Epoch 61/70\n",
            "58/58 - 12s - loss: 0.0021 - accuracy: 0.9996 - val_loss: 1.6611 - val_accuracy: 0.7557 - 12s/epoch - 213ms/step\n",
            "Epoch 62/70\n",
            "58/58 - 12s - loss: 0.0043 - accuracy: 0.9989 - val_loss: 1.5984 - val_accuracy: 0.7430 - 12s/epoch - 211ms/step\n",
            "Epoch 63/70\n",
            "58/58 - 12s - loss: 0.0061 - accuracy: 0.9984 - val_loss: 1.7418 - val_accuracy: 0.7461 - 12s/epoch - 212ms/step\n",
            "Epoch 64/70\n",
            "58/58 - 12s - loss: 9.1781e-04 - accuracy: 0.9999 - val_loss: 1.6845 - val_accuracy: 0.7511 - 12s/epoch - 211ms/step\n",
            "Epoch 65/70\n",
            "58/58 - 12s - loss: 2.1726e-04 - accuracy: 1.0000 - val_loss: 1.6086 - val_accuracy: 0.7714 - 12s/epoch - 212ms/step\n",
            "Epoch 66/70\n",
            "58/58 - 12s - loss: 2.9228e-05 - accuracy: 1.0000 - val_loss: 1.6327 - val_accuracy: 0.7733 - 12s/epoch - 212ms/step\n",
            "Epoch 67/70\n",
            "58/58 - 12s - loss: 1.6785e-05 - accuracy: 1.0000 - val_loss: 1.6471 - val_accuracy: 0.7745 - 12s/epoch - 212ms/step\n",
            "Epoch 68/70\n",
            "58/58 - 12s - loss: 1.2860e-05 - accuracy: 1.0000 - val_loss: 1.6579 - val_accuracy: 0.7748 - 12s/epoch - 213ms/step\n",
            "Epoch 69/70\n",
            "58/58 - 12s - loss: 1.0739e-05 - accuracy: 1.0000 - val_loss: 1.6680 - val_accuracy: 0.7745 - 12s/epoch - 212ms/step\n",
            "Epoch 70/70\n",
            "58/58 - 12s - loss: 9.2863e-06 - accuracy: 1.0000 - val_loss: 1.6764 - val_accuracy: 0.7745 - 12s/epoch - 211ms/step\n",
            "Duration: 0:14:31.107282\n"
          ]
        }
      ],
      "source": [
        "start_time = datetime.now()\n",
        "\n",
        "reduce_lr = ReduceLROnPlateau(monitor='val_accuracy', factor=0.0001, mode=\"auto\", patience=1, min_lr=0.0001)\n",
        "history=model.fit(\n",
        "                      np.array(X_train_tf), np.array(y_train_tf),\n",
        "                      batch_size=256, \n",
        "                      epochs=70,\n",
        "                      validation_data = (np.array(X_test_tf), np.array(y_test_tf)),\n",
        "                      verbose=2,\n",
        "                      #callbacks=[reduce_lr],\n",
        "                      )\n",
        "end_time = datetime.now()\n",
        "print('Duration: {}'.format(end_time - start_time))"
      ]
    },
    {
      "cell_type": "code",
      "execution_count": null,
      "metadata": {
        "colab": {
          "background_save": true
        },
        "id": "v3omX-JbOezL"
      },
      "outputs": [],
      "source": [
        "# Saving model\n",
        "model.save('/content/drive/My Drive/Face_recognition_project/my_model_3.h5')\n",
        "saved_model = tf.keras.models.load_model('/content/drive/My Drive/Face_recognition_project/my_model_3.h5')"
      ]
    },
    {
      "cell_type": "code",
      "execution_count": null,
      "metadata": {
        "colab": {
          "background_save": true
        },
        "id": "aCcO7qKfOgpZ",
        "outputId": "f1fdeb82-f326-4796-d679-52a154f94766"
      },
      "outputs": [
        {
          "name": "stdout",
          "output_type": "stream",
          "text": [
            "462/462 [==============================] - 5s 11ms/step - loss: 8.5536e-06 - accuracy: 1.0000\n",
            "Train accuracy: 1.0\n"
          ]
        }
      ],
      "source": [
        "# Evaluate the model on the test data\n",
        "train_loss, train_acc = saved_model.evaluate(X_train_tf, y_train_tf)\n",
        "print('Train accuracy:', train_acc)"
      ]
    },
    {
      "cell_type": "code",
      "execution_count": null,
      "metadata": {
        "colab": {
          "background_save": true
        },
        "id": "Bf4z0AyHOikv",
        "outputId": "c312239c-5418-425b-c735-c875739a55cd"
      },
      "outputs": [
        {
          "name": "stdout",
          "output_type": "stream",
          "text": [
            "82/82 [==============================] - 1s 11ms/step - loss: 1.6763 - accuracy: 0.7745\n",
            "Test accuracy: 0.7744534015655518\n"
          ]
        }
      ],
      "source": [
        "# Evaluate the model on the test data\n",
        "test_loss, test_acc = saved_model.evaluate(X_test_tf, y_test_tf)\n",
        "print('Test accuracy:', test_acc)"
      ]
    },
    {
      "cell_type": "code",
      "execution_count": null,
      "metadata": {
        "colab": {
          "background_save": true
        },
        "id": "tgnB657OOkT-",
        "outputId": "0c1fa7f2-8bca-433e-d66c-6b3f5059a396"
      },
      "outputs": [
        {
          "name": "stdout",
          "output_type": "stream",
          "text": [
            "82/82 [==============================] - 1s 9ms/step\n",
            "[45, 81, 74, 28, 76, 93, 2, 57, 82, 100, 60, 41, 99, 40, 68, 38, 97, 45, 29, 2, 90, 31, 31, 89, 5, 35, 57, 48, 66, 27, 8, 7, 79, 100, 9, 46, 57, 103, 82, 38, 51, 91, 91, 101, 8, 30, 0, 9, 21, 2, 60, 65, 51, 63, 79, 62, 46, 40, 6, 94, 17, 12, 32, 104, 72, 73, 56, 74, 41, 37, 98, 90, 93, 19, 92, 11, 12, 78, 96, 30, 55, 56, 103, 87, 10, 84, 41, 77, 79, 25, 87, 91, 94, 93, 91, 30, 87, 35, 47, 28, 73, 90, 93, 47, 66, 86, 11, 16, 5, 3, 5, 20, 38, 99, 51, 94, 66, 6, 18, 101, 19, 73, 93, 47, 12, 66, 4, 99, 8, 29, 43, 104, 27, 51, 24, 5, 16, 66, 104, 72, 31, 46, 12, 24, 32, 24, 0, 37, 95, 98, 16, 70, 95, 27, 75, 47, 95, 46, 14, 55, 8, 84, 81, 92, 62, 0, 87, 37, 38, 96, 93, 97, 93, 79, 30, 34, 91, 102, 54, 12, 21, 78, 27, 12, 80, 91, 54, 38, 80, 55, 22, 12, 8, 71, 40, 80, 34, 79, 79, 15, 98, 9, 65, 77, 53, 102, 51, 25, 50, 67, 5, 71, 7, 47, 87, 3, 51, 12, 52, 25, 69, 24, 96, 49, 50, 94, 33, 90, 22, 58, 81, 72, 94, 1, 58, 67, 80, 33, 30, 16, 66, 7, 0, 65, 95, 87, 85, 52, 80, 100, 99, 38, 57, 103, 21, 57, 57, 78, 37, 19, 2, 61, 37, 52, 49, 47, 86, 45, 82, 103, 70, 31, 31, 69, 30, 95, 34, 95, 56, 92, 28, 63, 45, 89, 91, 61, 57, 1, 40, 55, 86, 51, 78, 85, 14, 56, 30, 6, 4, 6, 22, 84, 79, 74, 23, 99, 31, 69, 65, 81, 82, 9, 69, 101, 104, 102, 0, 20, 45, 28, 91, 78, 84, 83, 97, 31, 102, 4, 81, 101, 54, 84, 91, 34, 72, 25, 81, 87, 3, 61, 89, 76, 86, 37, 104, 77, 93, 52, 42, 48, 50, 67, 78, 17, 84, 93, 80, 67, 7, 34, 31, 40, 62, 69, 81, 87, 17, 36, 24, 46, 84, 12, 41, 71, 16, 90, 5, 35, 42, 41, 27, 51, 79, 97, 71, 12, 72, 98, 47, 84, 64, 96, 57, 92, 38, 18, 96, 11, 9, 13, 35, 15, 75, 35, 58, 29, 70, 60, 103, 3, 56, 26, 99, 57, 8, 81, 51, 87, 5, 50, 68, 9, 101, 15, 47, 96, 84, 40, 68, 38, 24, 45, 13, 95, 52, 47, 34, 48, 34, 47, 81, 41, 9, 77, 62, 66, 100, 65, 15, 47, 12, 24, 89, 76, 36, 50, 10, 83, 64, 103, 55, 57, 67, 49, 58, 14, 23, 70, 80, 15, 11, 21, 78, 13, 60, 81, 79, 56, 93, 26, 24, 82, 11, 32, 88, 67, 72, 30, 82, 23, 67, 12, 70, 42, 9, 9, 23, 86, 31, 23, 47, 32, 87, 95, 93, 12, 18, 1, 77, 14, 65, 13, 24, 58, 73, 9, 80, 68, 81, 63, 87, 30, 23, 2, 2, 89, 11, 55, 55, 101, 91, 87, 72, 78, 20, 91, 99, 5, 79, 46, 5, 64, 38, 69, 47, 27, 71, 78, 91, 30, 93, 77, 52, 16, 65, 46, 96, 8, 11, 30, 40, 58, 55, 96, 83, 27, 41, 27, 50, 3, 25, 26, 39, 69, 7, 34, 101, 25, 18, 22, 13, 31, 90, 95, 2, 87, 96, 41, 44, 73, 55, 57, 94, 52, 10, 102, 22, 24, 58, 32, 99, 90, 92, 51, 104, 42, 9, 13, 20, 82, 43, 47, 20, 76, 72, 60, 7, 38, 31, 73, 81, 24, 38, 61, 87, 84, 11, 103, 67, 60, 8, 27, 10, 80, 68, 48, 2, 3, 49, 3, 73, 92, 33, 83, 2, 95, 34, 13, 58, 83, 73, 29, 80, 71, 56, 33, 77, 66, 33, 33, 88, 14, 31, 93, 75, 68, 57, 96, 103, 63, 14, 12, 78, 103, 71, 91, 57, 12, 79, 56, 50, 98, 18, 76, 11, 21, 62, 104, 90, 42, 14, 31, 51, 90, 24, 80, 53, 99, 10, 72, 89, 77, 96, 43, 96, 44, 36, 81, 45, 34, 36, 26, 35, 14, 41, 65, 100, 74, 70, 72, 50, 77, 9, 68, 102, 57, 56, 89, 77, 73, 80, 21, 21, 38, 93, 76, 10, 79, 56, 26, 78, 58, 36, 15, 8, 47, 103, 5, 7, 91, 15, 94, 48, 53, 60, 52, 73, 103, 33, 48, 75, 70, 25, 3, 104, 37, 1, 90, 81, 47, 31, 54, 51, 95, 37, 29, 33, 77, 27, 18, 38, 86, 15, 60, 93, 44, 16, 78, 44, 65, 44, 9, 42, 66, 83, 98, 19, 68, 15, 24, 14, 7, 73, 65, 86, 15, 17, 98, 21, 31, 78, 102, 79, 49, 24, 34, 14, 28, 65, 54, 26, 91, 34, 70, 93, 14, 15, 14, 47, 21, 24, 99, 86, 7, 17, 82, 79, 5, 91, 8, 12, 69, 60, 39, 61, 24, 9, 42, 6, 60, 28, 26, 72, 23, 55, 101, 52, 87, 39, 22, 63, 84, 96, 96, 31, 12, 33, 82, 9, 74, 77, 11, 56, 6, 16, 57, 14, 74, 86, 65, 79, 66, 95, 20, 25, 31, 84, 79, 29, 70, 13, 29, 103, 12, 63, 93, 74, 56, 76, 92, 30, 11, 100, 86, 66, 86, 25, 90, 12, 33, 77, 37, 8, 71, 53, 16, 8, 19, 83, 2, 20, 88, 18, 54, 48, 9, 37, 99, 62, 84, 61, 99, 48, 2, 28, 40, 104, 65, 103, 98, 50, 13, 16, 25, 90, 69, 26, 5, 14, 68, 36, 76, 12, 28, 77, 98, 97, 26, 71, 28, 39, 45, 51, 83, 18, 51, 30, 3, 2, 34, 99, 82, 101, 19, 0, 16, 3, 2, 13, 76, 35, 34, 87, 24, 34, 90, 35, 67, 70, 60, 28, 11, 11, 37, 6, 0, 78, 17, 86, 24, 47, 88, 0, 10, 98, 42, 29, 41, 97, 16, 78, 70, 76, 55, 86, 46, 74, 9, 16, 3, 100, 27, 52, 34, 73, 30, 41, 30, 48, 1, 103, 11, 36, 103, 9, 23, 95, 9, 25, 11, 11, 98, 67, 86, 89, 22, 53, 34, 69, 46, 12, 80, 92, 8, 96, 52, 39, 90, 77, 15, 80, 36, 91, 73, 91, 80, 3, 47, 103, 101, 30, 102, 29, 90, 0, 8, 7, 47, 63, 89, 30, 83, 93, 68, 39, 94, 17, 24, 75, 68, 89, 39, 53, 74, 42, 14, 84, 7, 54, 53, 58, 46, 13, 97, 104, 61, 86, 65, 27, 90, 42, 53, 52, 72, 62, 83, 24, 100, 47, 11, 88, 47, 71, 89, 57, 22, 37, 82, 37, 82, 12, 18, 64, 25, 52, 57, 8, 3, 21, 58, 9, 12, 67, 79, 66, 38, 90, 43, 96, 90, 42, 27, 53, 13, 56, 68, 36, 63, 44, 99, 6, 90, 60, 9, 16, 64, 96, 100, 70, 78, 82, 96, 81, 98, 76, 26, 13, 66, 81, 22, 57, 50, 42, 16, 12, 38, 33, 15, 53, 46, 41, 72, 95, 15, 65, 104, 40, 21, 1, 19, 41, 82, 25, 28, 28, 62, 50, 51, 71, 6, 45, 88, 81, 57, 48, 65, 57, 45, 27, 67, 67, 57, 13, 99, 9, 10, 37, 22, 103, 46, 47, 79, 37, 71, 26, 17, 66, 37, 62, 66, 23, 25, 6, 5, 82, 99, 47, 9, 16, 34, 82, 87, 27, 103, 26, 49, 53, 89, 51, 53, 17, 58, 10, 2, 97, 104, 6, 67, 56, 24, 25, 22, 27, 56, 84, 74, 23, 66, 70, 77, 48, 24, 71, 61, 47, 30, 86, 46, 73, 26, 102, 0, 42, 93, 52, 104, 64, 84, 102, 4, 87, 20, 10, 12, 16, 88, 100, 72, 14, 10, 56, 80, 93, 29, 72, 6, 81, 18, 95, 18, 9, 56, 93, 67, 61, 57, 86, 103, 29, 10, 33, 2, 60, 72, 13, 1, 56, 87, 39, 94, 76, 17, 12, 5, 80, 5, 73, 72, 77, 39, 25, 0, 48, 97, 48, 53, 76, 12, 49, 32, 46, 12, 6, 53, 87, 97, 23, 3, 3, 50, 53, 77, 25, 28, 103, 73, 7, 44, 31, 46, 22, 100, 99, 29, 13, 24, 21, 5, 94, 14, 57, 79, 53, 6, 9, 0, 32, 24, 77, 18, 79, 27, 93, 56, 74, 3, 9, 67, 79, 24, 14, 87, 94, 6, 16, 45, 78, 75, 48, 99, 102, 44, 93, 3, 35, 93, 38, 104, 56, 2, 50, 89, 43, 30, 83, 90, 75, 33, 25, 71, 28, 57, 9, 18, 78, 45, 57, 96, 16, 65, 2, 17, 73, 87, 77, 93, 11, 16, 42, 50, 51, 88, 2, 25, 29, 86, 16, 68, 40, 60, 54, 2, 33, 3, 31, 91, 72, 69, 58, 6, 10, 58, 55, 98, 29, 51, 32, 97, 54, 79, 15, 101, 62, 93, 14, 40, 41, 80, 40, 95, 58, 69, 35, 92, 70, 80, 80, 33, 86, 86, 24, 72, 29, 95, 28, 101, 24, 78, 78, 33, 100, 38, 70, 74, 16, 74, 73, 22, 1, 1, 35, 70, 25, 3, 80, 97, 78, 49, 84, 30, 14, 25, 23, 13, 39, 30, 9, 95, 86, 30, 60, 31, 94, 43, 43, 45, 25, 22, 19, 9, 27, 98, 72, 77, 19, 6, 95, 99, 104, 56, 6, 52, 2, 101, 71, 70, 78, 30, 14, 6, 75, 69, 44, 13, 26, 89, 8, 71, 48, 6, 47, 16, 49, 84, 99, 69, 97, 36, 4, 78, 90, 56, 18, 39, 12, 76, 69, 87, 17, 2, 52, 56, 1, 76, 63, 55, 3, 44, 90, 36, 51, 10, 35, 35, 38, 66, 27, 87, 13, 81, 97, 29, 25, 19, 62, 54, 103, 26, 17, 73, 99, 58, 55, 54, 104, 5, 67, 18, 83, 3, 77, 2, 60, 94, 96, 49, 99, 77, 73, 8, 87, 103, 8, 102, 95, 100, 94, 68, 6, 91, 92, 104, 31, 25, 69, 56, 93, 5, 64, 41, 79, 44, 83, 39, 68, 27, 69, 76, 100, 104, 15, 96, 79, 33, 14, 42, 19, 34, 83, 11, 30, 31, 34, 44, 31, 3, 91, 87, 69, 33, 52, 51, 85, 56, 80, 52, 17, 22, 93, 81, 64, 12, 26, 68, 51, 100, 15, 44, 25, 47, 10, 5, 12, 21, 38, 73, 0, 38, 10, 48, 19, 69, 34, 19, 21, 85, 28, 35, 98, 9, 64, 13, 65, 36, 86, 11, 10, 3, 66, 0, 15, 100, 5, 76, 62, 42, 79, 77, 28, 9, 99, 10, 66, 10, 60, 42, 69, 53, 28, 28, 98, 41, 72, 45, 38, 35, 75, 3, 58, 54, 30, 13, 9, 103, 86, 34, 9, 85, 49, 2, 52, 70, 66, 44, 39, 86, 25, 30, 47, 12, 63, 19, 84, 95, 8, 19, 42, 71, 54, 81, 7, 10, 79, 48, 65, 36, 45, 73, 7, 55, 58, 72, 38, 24, 77, 3, 26, 50, 102, 14, 57, 88, 36, 21, 51, 18, 8, 53, 50, 29, 50, 58, 57, 58, 74, 20, 74, 101, 92, 96, 1, 73, 96, 98, 67, 10, 23, 42, 38, 28, 75, 77, 11, 46, 82, 14, 78, 58, 76, 89, 103, 56, 63, 102, 26, 87, 11, 8, 57, 65, 33, 55, 18, 28, 73, 71, 87, 80, 91, 17, 73, 18, 66, 63, 34, 12, 18, 82, 63, 13, 44, 77, 95, 12, 26, 52, 79, 57, 40, 43, 98, 97, 15, 95, 77, 22, 50, 84, 19, 87, 82, 93, 94, 83, 88, 99, 72, 52, 34, 3, 16, 76, 85, 31, 10, 89, 91, 80, 28, 98, 58, 74, 92, 60, 48, 85, 77, 13, 53, 20, 18, 90, 96, 28, 3, 39, 25, 60, 78, 50, 90, 57, 29, 17, 40, 17, 88, 104, 50, 11, 82, 29, 16, 69, 37, 77, 31, 97, 39, 77, 98, 101, 55, 71, 33, 66, 87, 19, 31, 90, 2, 84, 12, 97, 84, 39, 78, 85, 14, 18, 81, 19, 10, 104, 103, 88, 89, 87, 103, 72, 84, 92, 21, 40, 9, 3, 36, 32, 17, 38, 80, 21, 58, 52, 46, 17, 99, 8, 25, 19, 24, 72, 43, 69, 86, 17, 70, 18, 27, 95, 10, 91, 9, 87, 86, 1, 76, 41, 47, 27, 41, 36, 34, 9, 20, 51, 28, 0, 9, 66, 97, 44, 95, 103, 9, 7, 102, 77, 56, 24, 64, 14, 80, 42, 0, 16, 90, 3, 68, 97, 61, 54, 90, 27, 47, 20, 4, 89, 88, 2, 102, 10, 89, 84, 89, 2, 99, 20, 18, 101, 41, 57, 49, 96, 51, 16, 80, 40, 69, 44, 22, 8, 53, 24, 32, 3, 83, 93, 38, 77, 100, 90, 7, 42, 7, 72, 33, 66, 64, 43, 79, 96, 73, 82, 80, 47, 44, 34, 95, 33, 102, 34, 99, 60, 7, 62, 78, 96, 11, 35, 34, 14, 77, 24, 77, 40, 23, 5, 57, 12, 86, 85, 5, 51, 0, 51, 20, 32, 0, 34, 93, 2, 19, 42, 21, 19, 70, 94, 5, 52, 98, 76, 62, 57, 45, 15, 29, 43, 40, 57, 1, 44, 0, 3, 71, 2, 52, 56, 100, 11, 93, 23, 12, 26, 58, 57, 99, 46, 12, 84, 75, 40, 20, 18, 21, 51, 28, 87, 28, 82, 24, 10, 76, 51, 96, 4, 30, 89, 93, 75, 80, 76, 37, 11, 3, 27, 22, 54, 48, 91, 67, 8, 99, 11, 69, 45, 103, 33, 51, 11, 52, 96, 21, 61, 79, 49, 8, 4, 51, 66, 36, 26, 47, 3, 31, 75, 54, 57, 50, 34, 3, 53, 50, 76, 97, 41, 29, 98, 15, 48, 41, 58, 82, 28, 95, 68, 66, 77, 71, 57, 25, 48, 80, 29, 86, 104, 23, 29, 80, 32, 17, 100, 93, 57, 23, 19, 38, 30, 84, 76, 69, 2, 44, 37, 82, 34, 38, 43, 25, 5, 64, 71, 24, 70, 65, 38, 26, 69, 8, 14, 76, 10, 2, 68, 47, 101, 80, 80, 19, 68, 3, 9, 66, 35, 64, 86, 18, 0, 29, 76, 57, 60, 98, 1, 70, 16, 26, 12, 92, 30, 40, 48, 87, 81, 61, 32, 18, 89, 67, 27, 64, 104, 93, 55, 68, 48, 2, 12, 28, 42, 86, 32, 56, 39, 44, 5, 47, 77, 31, 91, 81, 74, 12, 98, 71, 87, 74, 94, 91, 101, 54, 36, 61, 31, 86, 25, 18, 98, 16, 60, 68, 101, 41, 78, 23, 69, 99, 8, 80, 72, 98, 62, 7, 44, 48, 77, 34, 58, 1, 31, 100, 93, 3, 15, 3, 34, 77, 20, 89, 76, 60, 79, 20, 60, 73, 74, 27, 66, 83, 40, 49, 37, 82, 95, 84, 5, 34, 6, 104, 102, 58, 46, 95, 17, 86, 95, 98, 102, 99, 36, 48, 62, 54, 46, 99, 29, 31, 24, 48, 4, 39, 85, 14, 38, 69, 31, 17, 20, 93, 20, 89, 1, 51, 68, 77, 55, 78, 37, 77, 53, 84, 41, 51, 30, 101, 52, 64, 45, 2, 8, 34, 87, 66, 30, 93, 56, 89, 16, 92, 66, 56, 94, 23, 84, 82, 49, 6, 30, 4, 11, 99, 96, 32, 64, 83, 65, 3, 63, 28, 43, 100, 21, 19, 9, 42, 25, 2, 73, 57, 17, 46, 56, 68, 95, 66, 5, 97, 95, 84, 74, 65, 85, 16, 18, 23, 69, 32, 4, 48, 22, 9, 62, 81, 15, 22, 40, 57, 57, 58, 62, 78, 53, 100, 2, 32, 19, 103, 60, 37, 3, 70, 51, 18, 12, 102, 70, 60]\n"
          ]
        }
      ],
      "source": [
        "yhat = saved_model.predict(X_test_tf)\n",
        "predictions = [np.argmax(elt) for elt in yhat]\n",
        "print(predictions)"
      ]
    },
    {
      "cell_type": "code",
      "execution_count": null,
      "metadata": {
        "colab": {
          "background_save": true
        },
        "id": "fj1NKtNXOmK5",
        "outputId": "e0aed5ec-92f4-4d23-b47b-80ea0a61b9bc"
      },
      "outputs": [
        {
          "data": {
            "image/png": "[encoded data removed]",
            "text/plain": [
              "<Figure size 432x288 with 1 Axes>"
            ]
          },
          "metadata": {},
          "output_type": "display_data"
        },
        {
          "data": {
            "image/png": "[encoded data removed]",
            "text/plain": [
              "<Figure size 432x288 with 1 Axes>"
            ]
          },
          "metadata": {},
          "output_type": "display_data"
        }
      ],
      "source": [
        "import matplotlib.pyplot as plt\n",
        "\n",
        "# summarize history for accuracy\n",
        "plt.plot(history.history['accuracy'])\n",
        "plt.plot(history.history['val_accuracy'])\n",
        "plt.title('model accuracy')\n",
        "plt.ylabel('accuracy')\n",
        "plt.xlabel('epoch')\n",
        "plt.legend(['Train', 'Validation'], loc='upper left')\n",
        "plt.show()\n",
        "# summarize history for loss\n",
        "plt.plot(history.history['loss'])\n",
        "plt.plot(history.history['val_loss'])\n",
        "plt.title('model loss')\n",
        "plt.ylabel('loss')\n",
        "plt.xlabel('epoch')\n",
        "plt.legend(['Train', 'Validation'], loc='upper left')\n",
        "plt.show()"
      ]
    },
    {
      "cell_type": "code",
      "execution_count": null,
      "metadata": {
        "colab": {
          "background_save": true
        },
        "id": "uhbgSX-HOrHE",
        "outputId": "400ad040-40aa-402d-def6-7d5f292e996c"
      },
      "outputs": [
        {
          "data": {
            "text/plain": [
              "<Axes: >"
            ]
          },
          "execution_count": 30,
          "metadata": {},
          "output_type": "execute_result"
        },
        {
          "data": {
            "image/png": "[encoded data removed]",
            "text/plain": [
              "<Figure size 1296x360 with 2 Axes>"
            ]
          },
          "metadata": {},
          "output_type": "display_data"
        }
      ],
      "source": [
        "my_conf_matrix = confusion_matrix(y_test, predictions)\n",
        "\n",
        "import sklearn.metrics as metrics\n",
        "import seaborn as sns\n",
        "plt.figure(1, figsize=(18,5))\n",
        "sns.heatmap(metrics.confusion_matrix(y_test, predictions))"
      ]
    }
  ],
  "metadata": {
    "colab": {
      "provenance": []
    },
    "gpuClass": "premium",
    "kernelspec": {
      "display_name": "Python 3",
      "name": "python3"
    },
    "language_info": {
      "name": "python"
    }
  },
  "nbformat": 4,
  "nbformat_minor": 0
}